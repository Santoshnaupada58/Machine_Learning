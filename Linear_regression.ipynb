{
 "cells": [
  {
   "cell_type": "markdown",
   "id": "884bb737",
   "metadata": {},
   "source": [
    "# Linear Regression"
   ]
  },
  {
   "cell_type": "markdown",
   "id": "15ec640c",
   "metadata": {},
   "source": [
    "Linear Regression is a machine learning algorithm based on supervised learning. It performs a regression task. Regression models a target prediction value based on independent variables. It is mostly used for finding out the relationship between variables and forecasting. Different regression models differ based on – the kind of relationship between dependent and independent variables they are considering, and the number of independent variables getting used.\n"
   ]
  },
  {
   "cell_type": "markdown",
   "id": "dd018ab3",
   "metadata": {},
   "source": [
    "# example  : "
   ]
  },
  {
   "attachments": {
    "linear-regression-plot.jpg": {
     "image/jpeg": "[encoded data removed]"
    }
   },
   "cell_type": "markdown",
   "id": "58ac8197",
   "metadata": {},
   "source": [
    "![linear-regression-plot.jpg](attachment:linear-regression-plot.jpg)"
   ]
  },
  {
   "cell_type": "code",
   "execution_count": null,
   "id": "7aca54b7",
   "metadata": {},
   "outputs": [],
   "source": []
  },
  {
   "cell_type": "markdown",
   "id": "89bdd2eb",
   "metadata": {},
   "source": [
    "# y predicted formula"
   ]
  },
  {
   "cell_type": "markdown",
   "id": "dc028194",
   "metadata": {},
   "source": [
    "# $$ y = m*X + c $$"
   ]
  },
  {
   "cell_type": "code",
   "execution_count": 1,
   "id": "1d1b4f35",
   "metadata": {},
   "outputs": [
    {
     "name": "stdout",
     "output_type": "stream",
     "text": [
      "Requirement already satisfied: scikit-learn in c:\\users\\hp\\anaconda3\\lib\\site-packages (0.24.1)\n",
      "Requirement already satisfied: scipy>=0.19.1 in c:\\users\\hp\\anaconda3\\lib\\site-packages (from scikit-learn) (1.6.2)\n",
      "Requirement already satisfied: joblib>=0.11 in c:\\users\\hp\\anaconda3\\lib\\site-packages (from scikit-learn) (1.0.1)\n",
      "Requirement already satisfied: numpy>=1.13.3 in c:\\users\\hp\\anaconda3\\lib\\site-packages (from scikit-learn) (1.20.1)\n",
      "Requirement already satisfied: threadpoolctl>=2.0.0 in c:\\users\\hp\\anaconda3\\lib\\site-packages (from scikit-learn) (2.1.0)\n"
     ]
    }
   ],
   "source": [
    "import pandas as pd\n",
    "import numpy as np\n",
    "import seaborn as sb\n",
    "from matplotlib import pyplot as plt\n",
    "!pip install scikit-learn\n",
    "from sklearn.model_selection import train_test_split\n",
    "from sklearn.linear_model import LogisticRegression\n",
    "from sklearn.metrics import classification_report\n",
    "from sklearn.metrics import confusion_matrix,accuracy_score"
   ]
  },
  {
   "cell_type": "code",
   "execution_count": null,
   "id": "709b2c48",
   "metadata": {},
   "outputs": [
    {
     "data": {
      "text/html": [
       "<div>\n",
       "<style scoped>\n",
       "    .dataframe tbody tr th:only-of-type {\n",
       "        vertical-align: middle;\n",
       "    }\n",
       "\n",
       "    .dataframe tbody tr th {\n",
       "        vertical-align: top;\n",
       "    }\n",
       "\n",
       "    .dataframe thead th {\n",
       "        text-align: right;\n",
       "    }\n",
       "</style>\n",
       "<table border=\"1\" class=\"dataframe\">\n",
       "  <thead>\n",
       "    <tr style=\"text-align: right;\">\n",
       "      <th></th>\n",
       "      <th>x</th>\n",
       "      <th>y</th>\n",
       "    </tr>\n",
       "  </thead>\n",
       "  <tbody>\n",
       "    <tr>\n",
       "      <th>0</th>\n",
       "      <td>1</td>\n",
       "      <td>1.5</td>\n",
       "    </tr>\n",
       "    <tr>\n",
       "      <th>1</th>\n",
       "      <td>2</td>\n",
       "      <td>3.8</td>\n",
       "    </tr>\n",
       "    <tr>\n",
       "      <th>2</th>\n",
       "      <td>3</td>\n",
       "      <td>6.7</td>\n",
       "    </tr>\n",
       "    <tr>\n",
       "      <th>3</th>\n",
       "      <td>4</td>\n",
       "      <td>9.0</td>\n",
       "    </tr>\n",
       "    <tr>\n",
       "      <th>4</th>\n",
       "      <td>5</td>\n",
       "      <td>11.2</td>\n",
       "    </tr>\n",
       "    <tr>\n",
       "      <th>5</th>\n",
       "      <td>6</td>\n",
       "      <td>13.6</td>\n",
       "    </tr>\n",
       "    <tr>\n",
       "      <th>6</th>\n",
       "      <td>7</td>\n",
       "      <td>16.0</td>\n",
       "    </tr>\n",
       "  </tbody>\n",
       "</table>\n",
       "</div>"
      ],
      "text/plain": [
       "   x     y\n",
       "0  1   1.5\n",
       "1  2   3.8\n",
       "2  3   6.7\n",
       "3  4   9.0\n",
       "4  5  11.2\n",
       "5  6  13.6\n",
       "6  7  16.0"
      ]
     },
     "execution_count": 34,
     "metadata": {},
     "output_type": "execute_result"
    }
   ],
   "source": [
    "data = {\n",
    "    \"x\" : list(range(1, 8)),\n",
    "    'y' : [1.5, 3.8, 6.7, 9.0, 11.2, 13.6, 16]\n",
    "}\n",
    "df = pd.DataFrame(data=data)\n",
    "df"
   ]
  },
  {
   "cell_type": "markdown",
   "id": "d85d806a",
   "metadata": {},
   "source": [
    "# Finding M "
   ]
  },
  {
   "cell_type": "markdown",
   "id": "4acd95da",
   "metadata": {},
   "source": [
    "$$ m = \\frac{(n * \\sum_{i=0}^{n} X_{i} * Y_{i}) - (\\sum_{i=0}^{n} X * \\sum_{i=0}^{n} Y)}{(n*\\sum_{i=0}^{n}X^{2}) - (\\sum_{i=0}^{n}X)^{2}} $$"
   ]
  },
  {
   "cell_type": "code",
   "execution_count": null,
   "id": "0442530a",
   "metadata": {},
   "outputs": [
    {
     "data": {
      "text/html": [
       "<div>\n",
       "<style scoped>\n",
       "    .dataframe tbody tr th:only-of-type {\n",
       "        vertical-align: middle;\n",
       "    }\n",
       "\n",
       "    .dataframe tbody tr th {\n",
       "        vertical-align: top;\n",
       "    }\n",
       "\n",
       "    .dataframe thead th {\n",
       "        text-align: right;\n",
       "    }\n",
       "</style>\n",
       "<table border=\"1\" class=\"dataframe\">\n",
       "  <thead>\n",
       "    <tr style=\"text-align: right;\">\n",
       "      <th></th>\n",
       "      <th>x</th>\n",
       "      <th>y</th>\n",
       "      <th>sum_xy</th>\n",
       "      <th>sqr_x</th>\n",
       "    </tr>\n",
       "  </thead>\n",
       "  <tbody>\n",
       "    <tr>\n",
       "      <th>0</th>\n",
       "      <td>1</td>\n",
       "      <td>1.5</td>\n",
       "      <td>1.5</td>\n",
       "      <td>1</td>\n",
       "    </tr>\n",
       "    <tr>\n",
       "      <th>1</th>\n",
       "      <td>2</td>\n",
       "      <td>3.8</td>\n",
       "      <td>7.6</td>\n",
       "      <td>4</td>\n",
       "    </tr>\n",
       "    <tr>\n",
       "      <th>2</th>\n",
       "      <td>3</td>\n",
       "      <td>6.7</td>\n",
       "      <td>20.1</td>\n",
       "      <td>9</td>\n",
       "    </tr>\n",
       "    <tr>\n",
       "      <th>3</th>\n",
       "      <td>4</td>\n",
       "      <td>9.0</td>\n",
       "      <td>36.0</td>\n",
       "      <td>16</td>\n",
       "    </tr>\n",
       "    <tr>\n",
       "      <th>4</th>\n",
       "      <td>5</td>\n",
       "      <td>11.2</td>\n",
       "      <td>56.0</td>\n",
       "      <td>25</td>\n",
       "    </tr>\n",
       "    <tr>\n",
       "      <th>5</th>\n",
       "      <td>6</td>\n",
       "      <td>13.6</td>\n",
       "      <td>81.6</td>\n",
       "      <td>36</td>\n",
       "    </tr>\n",
       "    <tr>\n",
       "      <th>6</th>\n",
       "      <td>7</td>\n",
       "      <td>16.0</td>\n",
       "      <td>112.0</td>\n",
       "      <td>49</td>\n",
       "    </tr>\n",
       "  </tbody>\n",
       "</table>\n",
       "</div>"
      ],
      "text/plain": [
       "   x     y  sum_xy  sqr_x\n",
       "0  1   1.5     1.5      1\n",
       "1  2   3.8     7.6      4\n",
       "2  3   6.7    20.1      9\n",
       "3  4   9.0    36.0     16\n",
       "4  5  11.2    56.0     25\n",
       "5  6  13.6    81.6     36\n",
       "6  7  16.0   112.0     49"
      ]
     },
     "execution_count": 8,
     "metadata": {},
     "output_type": "execute_result"
    }
   ],
   "source": [
    "df['sum_xy'] = df['x'] * df['y']\n",
    "df['sqr_x'] = df['x'] ** 2\n",
    "df"
   ]
  },
  {
   "cell_type": "code",
   "execution_count": null,
   "id": "3e8cabf0",
   "metadata": {},
   "outputs": [],
   "source": [
    "sum_xy = df['sum_xy'].sum()\n",
    "sum_x = df['x'].sum()\n",
    "sum_y =df['y'].sum()\n",
    "sum_sqr_x = df['sqr_x'].sum()\n",
    "sum_x_h_2 = sum_x ** 2 \n",
    "n = len(df)"
   ]
  },
  {
   "cell_type": "code",
   "execution_count": null,
   "id": "c7f030e9",
   "metadata": {},
   "outputs": [
    {
     "data": {
      "text/plain": [
       "(28, 61.800000000000004, 314.8, 140, 784, 7)"
      ]
     },
     "execution_count": 10,
     "metadata": {},
     "output_type": "execute_result"
    }
   ],
   "source": [
    "sum_x, sum_y, sum_xy, sum_sqr_x, sum_x_h_2, n"
   ]
  },
  {
   "cell_type": "code",
   "execution_count": null,
   "id": "2812bf15",
   "metadata": {},
   "outputs": [
    {
     "data": {
      "text/plain": [
       "473.1999999999998"
      ]
     },
     "execution_count": 11,
     "metadata": {},
     "output_type": "execute_result"
    }
   ],
   "source": [
    "numerator = (n*sum_xy) - (sum_x * sum_y)\n",
    "numerator"
   ]
  },
  {
   "cell_type": "code",
   "execution_count": null,
   "id": "be815ade",
   "metadata": {},
   "outputs": [
    {
     "data": {
      "text/plain": [
       "196"
      ]
     },
     "execution_count": 12,
     "metadata": {},
     "output_type": "execute_result"
    }
   ],
   "source": [
    "denominator = (n*sum_sqr_x) - sum_x_h_2\n",
    "denominator"
   ]
  },
  {
   "cell_type": "code",
   "execution_count": null,
   "id": "e12fd168",
   "metadata": {},
   "outputs": [
    {
     "data": {
      "text/plain": [
       "2.4142857142857133"
      ]
     },
     "execution_count": 13,
     "metadata": {},
     "output_type": "execute_result"
    }
   ],
   "source": [
    "m = numerator / denominator\n",
    "m"
   ]
  },
  {
   "cell_type": "markdown",
   "id": "6843424a",
   "metadata": {},
   "source": [
    "# finding b              $$ b = \\frac{\\sum_{i=0}^{n} Y_{i} - m * \\sum_{i=0}^{n} X_{i}}{n} $$"
   ]
  },
  {
   "cell_type": "code",
   "execution_count": null,
   "id": "63f13cd0",
   "metadata": {},
   "outputs": [
    {
     "data": {
      "text/plain": [
       "(28, 61.800000000000004, 7, 2.4142857142857133)"
      ]
     },
     "execution_count": 14,
     "metadata": {},
     "output_type": "execute_result"
    }
   ],
   "source": [
    "sum_x, sum_y, n,m"
   ]
  },
  {
   "cell_type": "code",
   "execution_count": null,
   "id": "164e2d54",
   "metadata": {},
   "outputs": [
    {
     "data": {
      "text/plain": [
       "-0.8285714285714231"
      ]
     },
     "execution_count": 15,
     "metadata": {},
     "output_type": "execute_result"
    }
   ],
   "source": [
    "numerator_b = ((sum_y) - (m * sum_x))\n",
    "denominator_b = n\n",
    "b = numerator_b / denominator_b\n",
    "b"
   ]
  },
  {
   "cell_type": "code",
   "execution_count": null,
   "id": "747120ef",
   "metadata": {},
   "outputs": [
    {
     "data": {
      "text/plain": [
       "(2.4142857142857133, -0.8285714285714231)"
      ]
     },
     "execution_count": 16,
     "metadata": {},
     "output_type": "execute_result"
    }
   ],
   "source": [
    "m, b"
   ]
  },
  {
   "cell_type": "code",
   "execution_count": null,
   "id": "133378f8",
   "metadata": {},
   "outputs": [
    {
     "data": {
      "text/plain": [
       "0     1.5\n",
       "1     3.8\n",
       "2     6.7\n",
       "3     9.0\n",
       "4    11.2\n",
       "5    13.6\n",
       "6    16.0\n",
       "Name: y, dtype: float64"
      ]
     },
     "execution_count": 17,
     "metadata": {},
     "output_type": "execute_result"
    }
   ],
   "source": [
    "y_org = df['y']\n",
    "y_org"
   ]
  },
  {
   "cell_type": "code",
   "execution_count": null,
   "id": "6833c777",
   "metadata": {},
   "outputs": [
    {
     "data": {
      "text/plain": [
       "[1.5857142857142903,\n",
       " 4.0000000000000036,\n",
       " 6.414285714285717,\n",
       " 8.82857142857143,\n",
       " 11.242857142857142,\n",
       " 13.657142857142857,\n",
       " 16.07142857142857]"
      ]
     },
     "execution_count": 18,
     "metadata": {},
     "output_type": "execute_result"
    }
   ],
   "source": [
    "y_pred = [(m*x_val) + b for x_val in df['x']]\n",
    "y_pred"
   ]
  },
  {
   "cell_type": "code",
   "execution_count": null,
   "id": "fc2349a0",
   "metadata": {},
   "outputs": [
    {
     "data": {
      "text/html": [
       "<div>\n",
       "<style scoped>\n",
       "    .dataframe tbody tr th:only-of-type {\n",
       "        vertical-align: middle;\n",
       "    }\n",
       "\n",
       "    .dataframe tbody tr th {\n",
       "        vertical-align: top;\n",
       "    }\n",
       "\n",
       "    .dataframe thead th {\n",
       "        text-align: right;\n",
       "    }\n",
       "</style>\n",
       "<table border=\"1\" class=\"dataframe\">\n",
       "  <thead>\n",
       "    <tr style=\"text-align: right;\">\n",
       "      <th></th>\n",
       "      <th>x</th>\n",
       "      <th>y</th>\n",
       "      <th>sum_xy</th>\n",
       "      <th>sqr_x</th>\n",
       "      <th>y_pred</th>\n",
       "    </tr>\n",
       "  </thead>\n",
       "  <tbody>\n",
       "    <tr>\n",
       "      <th>0</th>\n",
       "      <td>1</td>\n",
       "      <td>1.5</td>\n",
       "      <td>1.5</td>\n",
       "      <td>1</td>\n",
       "      <td>1.585714</td>\n",
       "    </tr>\n",
       "    <tr>\n",
       "      <th>1</th>\n",
       "      <td>2</td>\n",
       "      <td>3.8</td>\n",
       "      <td>7.6</td>\n",
       "      <td>4</td>\n",
       "      <td>4.000000</td>\n",
       "    </tr>\n",
       "    <tr>\n",
       "      <th>2</th>\n",
       "      <td>3</td>\n",
       "      <td>6.7</td>\n",
       "      <td>20.1</td>\n",
       "      <td>9</td>\n",
       "      <td>6.414286</td>\n",
       "    </tr>\n",
       "    <tr>\n",
       "      <th>3</th>\n",
       "      <td>4</td>\n",
       "      <td>9.0</td>\n",
       "      <td>36.0</td>\n",
       "      <td>16</td>\n",
       "      <td>8.828571</td>\n",
       "    </tr>\n",
       "    <tr>\n",
       "      <th>4</th>\n",
       "      <td>5</td>\n",
       "      <td>11.2</td>\n",
       "      <td>56.0</td>\n",
       "      <td>25</td>\n",
       "      <td>11.242857</td>\n",
       "    </tr>\n",
       "    <tr>\n",
       "      <th>5</th>\n",
       "      <td>6</td>\n",
       "      <td>13.6</td>\n",
       "      <td>81.6</td>\n",
       "      <td>36</td>\n",
       "      <td>13.657143</td>\n",
       "    </tr>\n",
       "    <tr>\n",
       "      <th>6</th>\n",
       "      <td>7</td>\n",
       "      <td>16.0</td>\n",
       "      <td>112.0</td>\n",
       "      <td>49</td>\n",
       "      <td>16.071429</td>\n",
       "    </tr>\n",
       "  </tbody>\n",
       "</table>\n",
       "</div>"
      ],
      "text/plain": [
       "   x     y  sum_xy  sqr_x     y_pred\n",
       "0  1   1.5     1.5      1   1.585714\n",
       "1  2   3.8     7.6      4   4.000000\n",
       "2  3   6.7    20.1      9   6.414286\n",
       "3  4   9.0    36.0     16   8.828571\n",
       "4  5  11.2    56.0     25  11.242857\n",
       "5  6  13.6    81.6     36  13.657143\n",
       "6  7  16.0   112.0     49  16.071429"
      ]
     },
     "execution_count": 19,
     "metadata": {},
     "output_type": "execute_result"
    }
   ],
   "source": [
    "df['y_pred'] = [(m*x_val) + b for x_val in df['x']]\n",
    "df"
   ]
  },
  {
   "cell_type": "markdown",
   "id": "63cca2a4",
   "metadata": {},
   "source": [
    "# Squared Error"
   ]
  },
  {
   "cell_type": "markdown",
   "id": "4ffa3c02",
   "metadata": {},
   "source": [
    "$$ ss = \\sum_{i=0}^{n} (Y_{org} - y_{pred}) ^ {2} $$"
   ]
  },
  {
   "cell_type": "code",
   "execution_count": null,
   "id": "702f512e",
   "metadata": {},
   "outputs": [
    {
     "data": {
      "text/plain": [
       "0.024081632653061246"
      ]
     },
     "execution_count": 20,
     "metadata": {},
     "output_type": "execute_result"
    }
   ],
   "source": [
    "se = sum([(yorg - ypred)**2 for yorg, ypred in zip(df['y'], df['y_pred'])]) / n\n",
    "se"
   ]
  },
  {
   "cell_type": "code",
   "execution_count": null,
   "id": "97c55090",
   "metadata": {},
   "outputs": [],
   "source": []
  },
  {
   "cell_type": "markdown",
   "id": "266a10bf",
   "metadata": {},
   "source": [
    "# linear regression in oops  "
   ]
  },
  {
   "cell_type": "code",
   "execution_count": null,
   "id": "a7b97a34",
   "metadata": {},
   "outputs": [],
   "source": [
    "class linear_regression:\n",
    "\n",
    "\n",
    "    def __init__(self,df):                              # taken all values in formula\n",
    "        self.n=len(df)\n",
    "        self.sum_x=df['x'].sum()\n",
    "        self.sum_y=df['y'].sum()\n",
    "        self.sum_xy=df['sum_xy'].sum()\n",
    "        self.sum_sqr_x_=df['sqr_x'].sum()\n",
    "        self.sum_x_h_2= sum_x ** 2\n",
    "\n",
    "\n",
    "    def m_val(self,n,sum_x,sum_y,sum_xy,sum_x2,sum_x_h_2):    # finding m value in y=mx+b\n",
    "        self.numerator_m = n*((sum_xy)) - (sum_x)*(sum_y)\n",
    "        self.denominator_m = n*(sum_x2) - (sum_x_h_2)\n",
    "        self.m = self.numerator_m / self.denominator_m\n",
    "        return self.m\n",
    "\n",
    "\n",
    "    def b_val (self,n,sum_x,sum_y):                           # finfing b value in y=mx+b\n",
    "        self.numerator_b = (sum_y) - m*(sum_x)\n",
    "        self.denominator_b = n\n",
    "        self.b = self.numerator_b / self.denominator_b\n",
    "        return self.b\n",
    "\n",
    "\n",
    "    def fit_train(self,m,b,df):                                # finf y pred value in y=mx+b\n",
    "        self.y_pred = [(m*x_val) + b  for x_val in df['x']]\n",
    "        return self.y_pred\n",
    "\n",
    "\n",
    "    def mse_val (self,df,y_pred):                               # find mean square error mse\n",
    "        diff1=[]\n",
    "\n",
    "        for y_org, y_pred in zip(df['y'],y_pred):\n",
    "    \n",
    "            diff=(y_org - y_pred) ** 2\n",
    "            diff1.append(diff)\n",
    "        \n",
    "        ss1=sum(diff1)\n",
    "        mse=ss1/n\n",
    "        return mse\n",
    "\n",
    "    def mae_val(self,df,y_pred):                          # finding mean absolue error mae\n",
    "        diff1=[]\n",
    "\n",
    "        for y_org, y_pred in zip(df['y'],y_pred):\n",
    "            \n",
    "            diff = abs(y_org - y_pred)                 # here using abs for exponential\n",
    "            diff1.append(diff)\n",
    "\n",
    "        ss2=sum(diff1)\n",
    "        mae=ss2/n\n",
    "        return mae\n",
    "\n"
   ]
  },
  {
   "cell_type": "code",
   "execution_count": null,
   "id": "f3ad2ace",
   "metadata": {},
   "outputs": [
    {
     "name": "stdout",
     "output_type": "stream",
     "text": [
      "m value is : 2.4142857142857133\n"
     ]
    }
   ],
   "source": [
    "obj_m=linear_regression(df)\n",
    "obj_m.m_val(n,sum_x,sum_y,sum_xy, sum_sqr_x, sum_x_h_2)\n",
    "print('m value is :', m)\n"
   ]
  },
  {
   "cell_type": "code",
   "execution_count": null,
   "id": "f3267a10",
   "metadata": {},
   "outputs": [
    {
     "name": "stdout",
     "output_type": "stream",
     "text": [
      "b value is : -0.8285714285714231\n"
     ]
    }
   ],
   "source": [
    "obj_b=linear_regression(df)\n",
    "obj_b.b_val(n, sum_x,sum_y)\n",
    "print('b value is :', b)"
   ]
  },
  {
   "cell_type": "code",
   "execution_count": null,
   "id": "9961502b",
   "metadata": {},
   "outputs": [
    {
     "name": "stdout",
     "output_type": "stream",
     "text": [
      "y predict values is: [1.5857142857142903, 4.0000000000000036, 6.414285714285717, 8.82857142857143, 11.242857142857142, 13.657142857142857, 16.07142857142857]\n"
     ]
    }
   ],
   "source": [
    "obj_y_pred=linear_regression(df)\n",
    "obj_y_pred.fit_train(m,b,df)\n",
    "print('y predict values is:', y_pred)"
   ]
  },
  {
   "cell_type": "markdown",
   "id": "bed22c13",
   "metadata": {},
   "source": [
    "# mean sqaure error = ((sum of y orirginal) - (sum of y predicted))**2  / length of dataframe"
   ]
  },
  {
   "cell_type": "markdown",
   "id": "eedd34da",
   "metadata": {},
   "source": [
    "obj_mse=linear_regression(df)\n",
    "mse=obj_mse.mse_val(df,y_pred)\n",
    "print('mean square error is :',mse)"
   ]
  },
  {
   "cell_type": "markdown",
   "id": "1ac0b798",
   "metadata": {},
   "source": [
    "# mean absolute error = ((sum of y orirginal) - (sum of y predicted))  / length of dataframe  then after apply logarithm"
   ]
  },
  {
   "cell_type": "code",
   "execution_count": null,
   "id": "1cc505e2",
   "metadata": {},
   "outputs": [
    {
     "name": "stdout",
     "output_type": "stream",
     "text": [
      "mean absolute error is : 0.13061224489795956\n"
     ]
    }
   ],
   "source": [
    "obj_mae=linear_regression(df)\n",
    "mae=obj_mae.mae_val(df,y_pred)\n",
    "print('mean absolute error is :',mae)"
   ]
  },
  {
   "cell_type": "markdown",
   "id": "2735aa70",
   "metadata": {},
   "source": [
    "# data visualization using matplotlib"
   ]
  },
  {
   "cell_type": "code",
   "execution_count": null,
   "id": "d9551ad5",
   "metadata": {},
   "outputs": [],
   "source": []
  },
  {
   "cell_type": "code",
   "execution_count": null,
   "id": "1f84a425",
   "metadata": {},
   "outputs": [
    {
     "data": {
      "image/png": "[encoded data removed]",
      "text/plain": [
       "<Figure size 432x288 with 1 Axes>"
      ]
     },
     "metadata": {
      "needs_background": "light"
     },
     "output_type": "display_data"
    }
   ],
   "source": [
    "## data visualization \n",
    "import matplotlib.pyplot as plt\n",
    "\n",
    "x_val=df['x']\n",
    "y_org=df['y']\n",
    "y_pred=y_pred\n",
    "\n",
    "plt.plot(x_val,y_org)\n",
    "plt.plot(x_val,y_pred)\n",
    "plt.scatter(x_val,y_org,label='blue=original value')\n",
    "plt.scatter(x_val,y_pred,label='red=predicted value')\n",
    "plt.title('linear regression')\n",
    "plt.legend()\n",
    "plt.show()"
   ]
  },
  {
   "cell_type": "code",
   "execution_count": null,
   "id": "091bd5ca",
   "metadata": {},
   "outputs": [],
   "source": []
  },
  {
   "cell_type": "code",
   "execution_count": null,
   "id": "e3a0ba7c",
   "metadata": {},
   "outputs": [],
   "source": []
  },
  {
   "cell_type": "code",
   "execution_count": null,
   "id": "30c6f2a0",
   "metadata": {},
   "outputs": [],
   "source": []
  },
  {
   "cell_type": "code",
   "execution_count": null,
   "id": "a79dd250",
   "metadata": {},
   "outputs": [],
   "source": []
  },
  {
   "cell_type": "code",
   "execution_count": null,
   "id": "2a4066c4",
   "metadata": {},
   "outputs": [],
   "source": []
  },
  {
   "cell_type": "code",
   "execution_count": null,
   "id": "293ac694",
   "metadata": {},
   "outputs": [],
   "source": []
  },
  {
   "cell_type": "code",
   "execution_count": null,
   "id": "a9ee1dab",
   "metadata": {},
   "outputs": [],
   "source": []
  }
 ],
 "metadata": {
  "kernelspec": {
   "display_name": "Python 3",
   "language": "python",
   "name": "python3"
  },
  "language_info": {
   "codemirror_mode": {
    "name": "ipython",
    "version": 3
   },
   "file_extension": ".py",
   "mimetype": "text/x-python",
   "name": "python",
   "nbconvert_exporter": "python",
   "pygments_lexer": "ipython3",
   "version": "3.8.8"
  }
 },
 "nbformat": 4,
 "nbformat_minor": 5
}
